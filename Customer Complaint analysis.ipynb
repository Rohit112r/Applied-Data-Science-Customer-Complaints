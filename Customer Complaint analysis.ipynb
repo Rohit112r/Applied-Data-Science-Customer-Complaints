{
 "cells": [
  {
   "cell_type": "markdown",
   "id": "be560292",
   "metadata": {},
   "source": [
    "# Project : Customer Service Requests Analysis"
   ]
  },
  {
   "cell_type": "code",
   "execution_count": 1,
   "id": "4adf63d9",
   "metadata": {},
   "outputs": [],
   "source": [
    "# importing the data file\n",
    "import pandas as pd\n",
    "import numpy as np"
   ]
  },
  {
   "cell_type": "code",
   "execution_count": 2,
   "id": "36a1cfd4",
   "metadata": {},
   "outputs": [
    {
     "name": "stderr",
     "output_type": "stream",
     "text": [
      "C:\\Users\\rishabh\\AppData\\Local\\Temp\\ipykernel_9604\\409352135.py:1: DtypeWarning: Columns (48,49) have mixed types. Specify dtype option on import or set low_memory=False.\n",
      "  data= pd.read_csv(\"311_Service_Requests_from_2010_to_Present.csv\")\n"
     ]
    }
   ],
   "source": [
    "data= pd.read_csv(\"311_Service_Requests_from_2010_to_Present.csv\")\n"
   ]
  },
  {
   "cell_type": "code",
   "execution_count": 3,
   "id": "cba7601e",
   "metadata": {},
   "outputs": [],
   "source": [
    "# reading initial 5 rows of data"
   ]
  },
  {
   "cell_type": "code",
   "execution_count": 4,
   "id": "8cde84db",
   "metadata": {},
   "outputs": [
    {
     "data": {
      "text/html": [
       "<div>\n",
       "<style scoped>\n",
       "    .dataframe tbody tr th:only-of-type {\n",
       "        vertical-align: middle;\n",
       "    }\n",
       "\n",
       "    .dataframe tbody tr th {\n",
       "        vertical-align: top;\n",
       "    }\n",
       "\n",
       "    .dataframe thead th {\n",
       "        text-align: right;\n",
       "    }\n",
       "</style>\n",
       "<table border=\"1\" class=\"dataframe\">\n",
       "  <thead>\n",
       "    <tr style=\"text-align: right;\">\n",
       "      <th></th>\n",
       "      <th>Unique Key</th>\n",
       "      <th>Created Date</th>\n",
       "      <th>Closed Date</th>\n",
       "      <th>Agency</th>\n",
       "      <th>Agency Name</th>\n",
       "      <th>Complaint Type</th>\n",
       "      <th>Descriptor</th>\n",
       "      <th>Location Type</th>\n",
       "      <th>Incident Zip</th>\n",
       "      <th>Incident Address</th>\n",
       "      <th>...</th>\n",
       "      <th>Bridge Highway Name</th>\n",
       "      <th>Bridge Highway Direction</th>\n",
       "      <th>Road Ramp</th>\n",
       "      <th>Bridge Highway Segment</th>\n",
       "      <th>Garage Lot Name</th>\n",
       "      <th>Ferry Direction</th>\n",
       "      <th>Ferry Terminal Name</th>\n",
       "      <th>Latitude</th>\n",
       "      <th>Longitude</th>\n",
       "      <th>Location</th>\n",
       "    </tr>\n",
       "  </thead>\n",
       "  <tbody>\n",
       "    <tr>\n",
       "      <th>0</th>\n",
       "      <td>32310363</td>\n",
       "      <td>12/31/2015 11:59:45 PM</td>\n",
       "      <td>01/01/2016 12:55:15 AM</td>\n",
       "      <td>NYPD</td>\n",
       "      <td>New York City Police Department</td>\n",
       "      <td>Noise - Street/Sidewalk</td>\n",
       "      <td>Loud Music/Party</td>\n",
       "      <td>Street/Sidewalk</td>\n",
       "      <td>10034.0</td>\n",
       "      <td>71 VERMILYEA AVENUE</td>\n",
       "      <td>...</td>\n",
       "      <td>NaN</td>\n",
       "      <td>NaN</td>\n",
       "      <td>NaN</td>\n",
       "      <td>NaN</td>\n",
       "      <td>NaN</td>\n",
       "      <td>NaN</td>\n",
       "      <td>NaN</td>\n",
       "      <td>40.865682</td>\n",
       "      <td>-73.923501</td>\n",
       "      <td>(40.86568153633767, -73.92350095571744)</td>\n",
       "    </tr>\n",
       "    <tr>\n",
       "      <th>1</th>\n",
       "      <td>32309934</td>\n",
       "      <td>12/31/2015 11:59:44 PM</td>\n",
       "      <td>01/01/2016 01:26:57 AM</td>\n",
       "      <td>NYPD</td>\n",
       "      <td>New York City Police Department</td>\n",
       "      <td>Blocked Driveway</td>\n",
       "      <td>No Access</td>\n",
       "      <td>Street/Sidewalk</td>\n",
       "      <td>11105.0</td>\n",
       "      <td>27-07 23 AVENUE</td>\n",
       "      <td>...</td>\n",
       "      <td>NaN</td>\n",
       "      <td>NaN</td>\n",
       "      <td>NaN</td>\n",
       "      <td>NaN</td>\n",
       "      <td>NaN</td>\n",
       "      <td>NaN</td>\n",
       "      <td>NaN</td>\n",
       "      <td>40.775945</td>\n",
       "      <td>-73.915094</td>\n",
       "      <td>(40.775945312321085, -73.91509393898605)</td>\n",
       "    </tr>\n",
       "    <tr>\n",
       "      <th>2</th>\n",
       "      <td>32309159</td>\n",
       "      <td>12/31/2015 11:59:29 PM</td>\n",
       "      <td>01/01/2016 04:51:03 AM</td>\n",
       "      <td>NYPD</td>\n",
       "      <td>New York City Police Department</td>\n",
       "      <td>Blocked Driveway</td>\n",
       "      <td>No Access</td>\n",
       "      <td>Street/Sidewalk</td>\n",
       "      <td>10458.0</td>\n",
       "      <td>2897 VALENTINE AVENUE</td>\n",
       "      <td>...</td>\n",
       "      <td>NaN</td>\n",
       "      <td>NaN</td>\n",
       "      <td>NaN</td>\n",
       "      <td>NaN</td>\n",
       "      <td>NaN</td>\n",
       "      <td>NaN</td>\n",
       "      <td>NaN</td>\n",
       "      <td>40.870325</td>\n",
       "      <td>-73.888525</td>\n",
       "      <td>(40.870324522111424, -73.88852464418646)</td>\n",
       "    </tr>\n",
       "    <tr>\n",
       "      <th>3</th>\n",
       "      <td>32305098</td>\n",
       "      <td>12/31/2015 11:57:46 PM</td>\n",
       "      <td>01/01/2016 07:43:13 AM</td>\n",
       "      <td>NYPD</td>\n",
       "      <td>New York City Police Department</td>\n",
       "      <td>Illegal Parking</td>\n",
       "      <td>Commercial Overnight Parking</td>\n",
       "      <td>Street/Sidewalk</td>\n",
       "      <td>10461.0</td>\n",
       "      <td>2940 BAISLEY AVENUE</td>\n",
       "      <td>...</td>\n",
       "      <td>NaN</td>\n",
       "      <td>NaN</td>\n",
       "      <td>NaN</td>\n",
       "      <td>NaN</td>\n",
       "      <td>NaN</td>\n",
       "      <td>NaN</td>\n",
       "      <td>NaN</td>\n",
       "      <td>40.835994</td>\n",
       "      <td>-73.828379</td>\n",
       "      <td>(40.83599404683083, -73.82837939584206)</td>\n",
       "    </tr>\n",
       "    <tr>\n",
       "      <th>4</th>\n",
       "      <td>32306529</td>\n",
       "      <td>12/31/2015 11:56:58 PM</td>\n",
       "      <td>01/01/2016 03:24:42 AM</td>\n",
       "      <td>NYPD</td>\n",
       "      <td>New York City Police Department</td>\n",
       "      <td>Illegal Parking</td>\n",
       "      <td>Blocked Sidewalk</td>\n",
       "      <td>Street/Sidewalk</td>\n",
       "      <td>11373.0</td>\n",
       "      <td>87-14 57 ROAD</td>\n",
       "      <td>...</td>\n",
       "      <td>NaN</td>\n",
       "      <td>NaN</td>\n",
       "      <td>NaN</td>\n",
       "      <td>NaN</td>\n",
       "      <td>NaN</td>\n",
       "      <td>NaN</td>\n",
       "      <td>NaN</td>\n",
       "      <td>40.733060</td>\n",
       "      <td>-73.874170</td>\n",
       "      <td>(40.733059618956815, -73.87416975810375)</td>\n",
       "    </tr>\n",
       "  </tbody>\n",
       "</table>\n",
       "<p>5 rows × 53 columns</p>\n",
       "</div>"
      ],
      "text/plain": [
       "   Unique Key            Created Date             Closed Date Agency  \\\n",
       "0    32310363  12/31/2015 11:59:45 PM  01/01/2016 12:55:15 AM   NYPD   \n",
       "1    32309934  12/31/2015 11:59:44 PM  01/01/2016 01:26:57 AM   NYPD   \n",
       "2    32309159  12/31/2015 11:59:29 PM  01/01/2016 04:51:03 AM   NYPD   \n",
       "3    32305098  12/31/2015 11:57:46 PM  01/01/2016 07:43:13 AM   NYPD   \n",
       "4    32306529  12/31/2015 11:56:58 PM  01/01/2016 03:24:42 AM   NYPD   \n",
       "\n",
       "                       Agency Name           Complaint Type  \\\n",
       "0  New York City Police Department  Noise - Street/Sidewalk   \n",
       "1  New York City Police Department         Blocked Driveway   \n",
       "2  New York City Police Department         Blocked Driveway   \n",
       "3  New York City Police Department          Illegal Parking   \n",
       "4  New York City Police Department          Illegal Parking   \n",
       "\n",
       "                     Descriptor    Location Type  Incident Zip  \\\n",
       "0              Loud Music/Party  Street/Sidewalk       10034.0   \n",
       "1                     No Access  Street/Sidewalk       11105.0   \n",
       "2                     No Access  Street/Sidewalk       10458.0   \n",
       "3  Commercial Overnight Parking  Street/Sidewalk       10461.0   \n",
       "4              Blocked Sidewalk  Street/Sidewalk       11373.0   \n",
       "\n",
       "        Incident Address  ... Bridge Highway Name Bridge Highway Direction  \\\n",
       "0    71 VERMILYEA AVENUE  ...                 NaN                      NaN   \n",
       "1        27-07 23 AVENUE  ...                 NaN                      NaN   \n",
       "2  2897 VALENTINE AVENUE  ...                 NaN                      NaN   \n",
       "3    2940 BAISLEY AVENUE  ...                 NaN                      NaN   \n",
       "4          87-14 57 ROAD  ...                 NaN                      NaN   \n",
       "\n",
       "  Road Ramp Bridge Highway Segment Garage Lot Name Ferry Direction  \\\n",
       "0       NaN                    NaN             NaN             NaN   \n",
       "1       NaN                    NaN             NaN             NaN   \n",
       "2       NaN                    NaN             NaN             NaN   \n",
       "3       NaN                    NaN             NaN             NaN   \n",
       "4       NaN                    NaN             NaN             NaN   \n",
       "\n",
       "  Ferry Terminal Name   Latitude  Longitude  \\\n",
       "0                 NaN  40.865682 -73.923501   \n",
       "1                 NaN  40.775945 -73.915094   \n",
       "2                 NaN  40.870325 -73.888525   \n",
       "3                 NaN  40.835994 -73.828379   \n",
       "4                 NaN  40.733060 -73.874170   \n",
       "\n",
       "                                   Location  \n",
       "0   (40.86568153633767, -73.92350095571744)  \n",
       "1  (40.775945312321085, -73.91509393898605)  \n",
       "2  (40.870324522111424, -73.88852464418646)  \n",
       "3   (40.83599404683083, -73.82837939584206)  \n",
       "4  (40.733059618956815, -73.87416975810375)  \n",
       "\n",
       "[5 rows x 53 columns]"
      ]
     },
     "execution_count": 4,
     "metadata": {},
     "output_type": "execute_result"
    }
   ],
   "source": [
    "data.head()"
   ]
  },
  {
   "cell_type": "code",
   "execution_count": 5,
   "id": "5c93ef72",
   "metadata": {},
   "outputs": [
    {
     "data": {
      "text/plain": [
       "(364558, 53)"
      ]
     },
     "execution_count": 5,
     "metadata": {},
     "output_type": "execute_result"
    }
   ],
   "source": [
    "data.shape\n"
   ]
  },
  {
   "cell_type": "code",
   "execution_count": 6,
   "id": "bd25f2f6",
   "metadata": {},
   "outputs": [],
   "source": [
    "# THE SHAPE OF THE DATA IS 364558 ROWS AND 53 COLUMNS"
   ]
  },
  {
   "cell_type": "code",
   "execution_count": 7,
   "id": "827ba9b9",
   "metadata": {},
   "outputs": [
    {
     "data": {
      "text/plain": [
       "Index(['Unique Key', 'Created Date', 'Closed Date', 'Agency', 'Agency Name',\n",
       "       'Complaint Type', 'Descriptor', 'Location Type', 'Incident Zip',\n",
       "       'Incident Address', 'Street Name', 'Cross Street 1', 'Cross Street 2',\n",
       "       'Intersection Street 1', 'Intersection Street 2', 'Address Type',\n",
       "       'City', 'Landmark', 'Facility Type', 'Status', 'Due Date',\n",
       "       'Resolution Description', 'Resolution Action Updated Date',\n",
       "       'Community Board', 'Borough', 'X Coordinate (State Plane)',\n",
       "       'Y Coordinate (State Plane)', 'Park Facility Name', 'Park Borough',\n",
       "       'School Name', 'School Number', 'School Region', 'School Code',\n",
       "       'School Phone Number', 'School Address', 'School City', 'School State',\n",
       "       'School Zip', 'School Not Found', 'School or Citywide Complaint',\n",
       "       'Vehicle Type', 'Taxi Company Borough', 'Taxi Pick Up Location',\n",
       "       'Bridge Highway Name', 'Bridge Highway Direction', 'Road Ramp',\n",
       "       'Bridge Highway Segment', 'Garage Lot Name', 'Ferry Direction',\n",
       "       'Ferry Terminal Name', 'Latitude', 'Longitude', 'Location'],\n",
       "      dtype='object')"
      ]
     },
     "execution_count": 7,
     "metadata": {},
     "output_type": "execute_result"
    }
   ],
   "source": [
    "data.columns"
   ]
  },
  {
   "cell_type": "code",
   "execution_count": 8,
   "id": "926cbd8f",
   "metadata": {},
   "outputs": [
    {
     "name": "stdout",
     "output_type": "stream",
     "text": [
      "<class 'pandas.core.frame.DataFrame'>\n",
      "RangeIndex: 364558 entries, 0 to 364557\n",
      "Data columns (total 53 columns):\n",
      " #   Column                          Non-Null Count   Dtype  \n",
      "---  ------                          --------------   -----  \n",
      " 0   Unique Key                      364558 non-null  int64  \n",
      " 1   Created Date                    364558 non-null  object \n",
      " 2   Closed Date                     362177 non-null  object \n",
      " 3   Agency                          364558 non-null  object \n",
      " 4   Agency Name                     364558 non-null  object \n",
      " 5   Complaint Type                  364558 non-null  object \n",
      " 6   Descriptor                      358057 non-null  object \n",
      " 7   Location Type                   364425 non-null  object \n",
      " 8   Incident Zip                    361560 non-null  float64\n",
      " 9   Incident Address                312859 non-null  object \n",
      " 10  Street Name                     312859 non-null  object \n",
      " 11  Cross Street 1                  307370 non-null  object \n",
      " 12  Cross Street 2                  306753 non-null  object \n",
      " 13  Intersection Street 1           51120 non-null   object \n",
      " 14  Intersection Street 2           50512 non-null   object \n",
      " 15  Address Type                    361306 non-null  object \n",
      " 16  City                            361561 non-null  object \n",
      " 17  Landmark                        375 non-null     object \n",
      " 18  Facility Type                   362169 non-null  object \n",
      " 19  Status                          364558 non-null  object \n",
      " 20  Due Date                        364555 non-null  object \n",
      " 21  Resolution Description          364558 non-null  object \n",
      " 22  Resolution Action Updated Date  362156 non-null  object \n",
      " 23  Community Board                 364558 non-null  object \n",
      " 24  Borough                         364558 non-null  object \n",
      " 25  X Coordinate (State Plane)      360528 non-null  float64\n",
      " 26  Y Coordinate (State Plane)      360528 non-null  float64\n",
      " 27  Park Facility Name              364558 non-null  object \n",
      " 28  Park Borough                    364558 non-null  object \n",
      " 29  School Name                     364558 non-null  object \n",
      " 30  School Number                   364558 non-null  object \n",
      " 31  School Region                   364557 non-null  object \n",
      " 32  School Code                     364557 non-null  object \n",
      " 33  School Phone Number             364558 non-null  object \n",
      " 34  School Address                  364558 non-null  object \n",
      " 35  School City                     364558 non-null  object \n",
      " 36  School State                    364558 non-null  object \n",
      " 37  School Zip                      364557 non-null  object \n",
      " 38  School Not Found                364558 non-null  object \n",
      " 39  School or Citywide Complaint    0 non-null       float64\n",
      " 40  Vehicle Type                    0 non-null       float64\n",
      " 41  Taxi Company Borough            0 non-null       float64\n",
      " 42  Taxi Pick Up Location           0 non-null       float64\n",
      " 43  Bridge Highway Name             297 non-null     object \n",
      " 44  Bridge Highway Direction        297 non-null     object \n",
      " 45  Road Ramp                       262 non-null     object \n",
      " 46  Bridge Highway Segment          262 non-null     object \n",
      " 47  Garage Lot Name                 0 non-null       float64\n",
      " 48  Ferry Direction                 1 non-null       object \n",
      " 49  Ferry Terminal Name             2 non-null       object \n",
      " 50  Latitude                        360528 non-null  float64\n",
      " 51  Longitude                       360528 non-null  float64\n",
      " 52  Location                        360528 non-null  object \n",
      "dtypes: float64(10), int64(1), object(42)\n",
      "memory usage: 147.4+ MB\n"
     ]
    }
   ],
   "source": [
    "data.info() # checking the type of the data\n"
   ]
  },
  {
   "cell_type": "code",
   "execution_count": 9,
   "id": "49876725",
   "metadata": {},
   "outputs": [
    {
     "data": {
      "text/plain": [
       "Unique Key                             0\n",
       "Created Date                           0\n",
       "Closed Date                         2381\n",
       "Agency                                 0\n",
       "Agency Name                            0\n",
       "Complaint Type                         0\n",
       "Descriptor                          6501\n",
       "Location Type                        133\n",
       "Incident Zip                        2998\n",
       "Incident Address                   51699\n",
       "Street Name                        51699\n",
       "Cross Street 1                     57188\n",
       "Cross Street 2                     57805\n",
       "Intersection Street 1             313438\n",
       "Intersection Street 2             314046\n",
       "Address Type                        3252\n",
       "City                                2997\n",
       "Landmark                          364183\n",
       "Facility Type                       2389\n",
       "Status                                 0\n",
       "Due Date                               3\n",
       "Resolution Description                 0\n",
       "Resolution Action Updated Date      2402\n",
       "Community Board                        0\n",
       "Borough                                0\n",
       "X Coordinate (State Plane)          4030\n",
       "Y Coordinate (State Plane)          4030\n",
       "Park Facility Name                     0\n",
       "Park Borough                           0\n",
       "School Name                            0\n",
       "School Number                          0\n",
       "School Region                          1\n",
       "School Code                            1\n",
       "School Phone Number                    0\n",
       "School Address                         0\n",
       "School City                            0\n",
       "School State                           0\n",
       "School Zip                             1\n",
       "School Not Found                       0\n",
       "School or Citywide Complaint      364558\n",
       "Vehicle Type                      364558\n",
       "Taxi Company Borough              364558\n",
       "Taxi Pick Up Location             364558\n",
       "Bridge Highway Name               364261\n",
       "Bridge Highway Direction          364261\n",
       "Road Ramp                         364296\n",
       "Bridge Highway Segment            364296\n",
       "Garage Lot Name                   364558\n",
       "Ferry Direction                   364557\n",
       "Ferry Terminal Name               364556\n",
       "Latitude                            4030\n",
       "Longitude                           4030\n",
       "Location                            4030\n",
       "dtype: int64"
      ]
     },
     "execution_count": 9,
     "metadata": {},
     "output_type": "execute_result"
    }
   ],
   "source": [
    "data.isnull().sum()"
   ]
  },
  {
   "cell_type": "code",
   "execution_count": 10,
   "id": "f39d4f13",
   "metadata": {
    "scrolled": false
   },
   "outputs": [
    {
     "name": "stdout",
     "output_type": "stream",
     "text": [
      "0.0\n",
      "Unique Key\n",
      "0.0\n",
      "Created Date\n",
      "0.6531196682009447\n",
      "Closed Date\n",
      "0.0\n",
      "Agency\n",
      "0.0\n",
      "Agency Name\n",
      "0.0\n",
      "Complaint Type\n",
      "1.7832553393424366\n",
      "Descriptor\n",
      "0.036482535015004466\n",
      "Location Type\n",
      "0.8223657140976196\n",
      "Incident Zip\n",
      "14.181282539403881\n",
      "Incident Address\n",
      "14.181282539403881\n",
      "Street Name\n",
      "15.686941446902825\n",
      "Cross Street 1\n",
      "15.856187492799501\n",
      "Cross Street 2\n",
      "85.97753992505993\n",
      "Intersection Street 1\n",
      "86.14431722798567\n",
      "Intersection Street 2\n",
      "0.8920391268330417\n",
      "Address Type\n",
      "0.8220914093230707\n",
      "City\n",
      "99.89713570954416\n",
      "Landmark\n",
      "0.655314106397336\n",
      "Facility Type\n",
      "0.0\n",
      "Status\n",
      "0.0008229143236467174\n",
      "Due Date\n",
      "0.0\n",
      "Resolution Description\n",
      "0.6588800684664717\n",
      "Resolution Action Updated Date\n",
      "0.0\n",
      "Community Board\n",
      "0.0\n",
      "Borough\n",
      "1.1054482414320903\n",
      "X Coordinate (State Plane)\n",
      "1.1054482414320903\n",
      "Y Coordinate (State Plane)\n",
      "0.0\n",
      "Park Facility Name\n",
      "0.0\n",
      "Park Borough\n",
      "0.0\n",
      "School Name\n",
      "0.0\n",
      "School Number\n",
      "0.00027430477454890576\n",
      "School Region\n",
      "0.00027430477454890576\n",
      "School Code\n",
      "0.0\n",
      "School Phone Number\n",
      "0.0\n",
      "School Address\n",
      "0.0\n",
      "School City\n",
      "0.0\n",
      "School State\n",
      "0.00027430477454890576\n",
      "School Zip\n",
      "0.0\n",
      "School Not Found\n",
      "100.0\n",
      "School or Citywide Complaint\n",
      "100.0\n",
      "Vehicle Type\n",
      "100.0\n",
      "Taxi Company Borough\n",
      "100.0\n",
      "Taxi Pick Up Location\n",
      "99.91853148195898\n",
      "Bridge Highway Name\n",
      "99.91853148195898\n",
      "Bridge Highway Direction\n",
      "99.92813214906818\n",
      "Road Ramp\n",
      "99.92813214906818\n",
      "Bridge Highway Segment\n",
      "100.0\n",
      "Garage Lot Name\n",
      "99.99972569522545\n",
      "Ferry Direction\n",
      "99.9994513904509\n",
      "Ferry Terminal Name\n",
      "1.1054482414320903\n",
      "Latitude\n",
      "1.1054482414320903\n",
      "Longitude\n",
      "1.1054482414320903\n",
      "Location\n"
     ]
    }
   ],
   "source": [
    "for i in data.columns:\n",
    "    null_data=(data[i].isnull().sum()/364558)*100\n",
    "    print(null_data)\n",
    "    print(i)\n",
    "    \n",
    "    \n"
   ]
  },
  {
   "cell_type": "code",
   "execution_count": 11,
   "id": "3f0afdec",
   "metadata": {},
   "outputs": [],
   "source": [
    "data_maxnull = [['School Name', 'School Number', 'School Region', 'School Code',\n",
    "       'School Phone Number', 'School Address', 'School City', 'School State',\n",
    "       'School Zip', 'School Not Found', 'School or Citywide Complaint',\n",
    "       'Vehicle Type', 'Taxi Company Borough', 'Taxi Pick Up Location',\n",
    "       'Bridge Highway Name', 'Bridge Highway Direction', 'Road Ramp',\n",
    "       'Bridge Highway Segment', 'Garage Lot Name', 'Ferry Direction',\n",
    "       'Ferry Terminal Name','Landmark','Intersection Street 1', 'Intersection Street 2']]"
   ]
  },
  {
   "cell_type": "code",
   "execution_count": 12,
   "id": "177c2d7b",
   "metadata": {},
   "outputs": [],
   "source": [
    "# the DataFrame data_maxnull contains more than 90% null values, therefore the columns should be removed"
   ]
  },
  {
   "cell_type": "code",
   "execution_count": 13,
   "id": "e40d1361",
   "metadata": {},
   "outputs": [],
   "source": [
    "data1=data.copy()"
   ]
  },
  {
   "cell_type": "code",
   "execution_count": 14,
   "id": "30bc41cc",
   "metadata": {},
   "outputs": [],
   "source": [
    "data1=data1.drop(['School Name', 'School Number', 'School Region', 'School Code',\n",
    "       'School Phone Number', 'School Address', 'School City', 'School State',\n",
    "       'School Zip', 'School Not Found', 'School or Citywide Complaint',\n",
    "       'Vehicle Type', 'Taxi Company Borough', 'Taxi Pick Up Location',\n",
    "       'Bridge Highway Name', 'Bridge Highway Direction', 'Road Ramp',\n",
    "       'Bridge Highway Segment', 'Garage Lot Name', 'Ferry Direction',\n",
    "       'Ferry Terminal Name','Landmark','Intersection Street 1', 'Intersection Street 2'], axis=1)\n"
   ]
  },
  {
   "cell_type": "code",
   "execution_count": 15,
   "id": "a8a25759",
   "metadata": {},
   "outputs": [
    {
     "data": {
      "text/plain": [
       "(364558, 29)"
      ]
     },
     "execution_count": 15,
     "metadata": {},
     "output_type": "execute_result"
    }
   ],
   "source": [
    "data1.shape"
   ]
  },
  {
   "cell_type": "code",
   "execution_count": 16,
   "id": "b1679e6c",
   "metadata": {},
   "outputs": [],
   "source": [
    "# We have reduced the columns to 29 from 53"
   ]
  },
  {
   "cell_type": "code",
   "execution_count": 17,
   "id": "01c4fab0",
   "metadata": {},
   "outputs": [],
   "source": [
    "# checking for null values"
   ]
  },
  {
   "cell_type": "code",
   "execution_count": 18,
   "id": "772e8e1d",
   "metadata": {},
   "outputs": [
    {
     "data": {
      "text/plain": [
       "Unique Key                            0\n",
       "Created Date                          0\n",
       "Closed Date                        2381\n",
       "Agency                                0\n",
       "Agency Name                           0\n",
       "Complaint Type                        0\n",
       "Descriptor                         6501\n",
       "Location Type                       133\n",
       "Incident Zip                       2998\n",
       "Incident Address                  51699\n",
       "Street Name                       51699\n",
       "Cross Street 1                    57188\n",
       "Cross Street 2                    57805\n",
       "Address Type                       3252\n",
       "City                               2997\n",
       "Facility Type                      2389\n",
       "Status                                0\n",
       "Due Date                              3\n",
       "Resolution Description                0\n",
       "Resolution Action Updated Date     2402\n",
       "Community Board                       0\n",
       "Borough                               0\n",
       "X Coordinate (State Plane)         4030\n",
       "Y Coordinate (State Plane)         4030\n",
       "Park Facility Name                    0\n",
       "Park Borough                          0\n",
       "Latitude                           4030\n",
       "Longitude                          4030\n",
       "Location                           4030\n",
       "dtype: int64"
      ]
     },
     "execution_count": 18,
     "metadata": {},
     "output_type": "execute_result"
    }
   ],
   "source": [
    "data1.isnull().sum()"
   ]
  },
  {
   "cell_type": "code",
   "execution_count": 19,
   "id": "dbfb768e",
   "metadata": {},
   "outputs": [],
   "source": [
    "# Separating the numerical and categorical values"
   ]
  },
  {
   "cell_type": "code",
   "execution_count": 20,
   "id": "b2df495c",
   "metadata": {},
   "outputs": [
    {
     "name": "stderr",
     "output_type": "stream",
     "text": [
      "C:\\Users\\rishabh\\AppData\\Local\\Temp\\ipykernel_9604\\3681711995.py:2: DeprecationWarning: `np.object` is a deprecated alias for the builtin `object`. To silence this warning, use `object` by itself. Doing this will not modify any behavior and is safe. \n",
      "Deprecated in NumPy 1.20; for more details and guidance: https://numpy.org/devdocs/release/1.20.0-notes.html#deprecations\n",
      "  data_cat =data1.select_dtypes(include=[np.object]) # categorical data\n"
     ]
    }
   ],
   "source": [
    "data_num= data1.select_dtypes(include=[np.number]) # numerical data\n",
    "data_cat =data1.select_dtypes(include=[np.object]) # categorical data\n"
   ]
  },
  {
   "cell_type": "code",
   "execution_count": 21,
   "id": "eb423b89",
   "metadata": {},
   "outputs": [
    {
     "data": {
      "text/plain": [
       "Index(['Unique Key', 'Incident Zip', 'X Coordinate (State Plane)',\n",
       "       'Y Coordinate (State Plane)', 'Latitude', 'Longitude'],\n",
       "      dtype='object')"
      ]
     },
     "execution_count": 21,
     "metadata": {},
     "output_type": "execute_result"
    }
   ],
   "source": [
    "data_num.columns"
   ]
  },
  {
   "cell_type": "code",
   "execution_count": 22,
   "id": "50869a0e",
   "metadata": {},
   "outputs": [
    {
     "data": {
      "text/plain": [
       "Index(['Created Date', 'Closed Date', 'Agency', 'Agency Name',\n",
       "       'Complaint Type', 'Descriptor', 'Location Type', 'Incident Address',\n",
       "       'Street Name', 'Cross Street 1', 'Cross Street 2', 'Address Type',\n",
       "       'City', 'Facility Type', 'Status', 'Due Date', 'Resolution Description',\n",
       "       'Resolution Action Updated Date', 'Community Board', 'Borough',\n",
       "       'Park Facility Name', 'Park Borough', 'Location'],\n",
       "      dtype='object')"
      ]
     },
     "execution_count": 22,
     "metadata": {},
     "output_type": "execute_result"
    }
   ],
   "source": [
    "data_cat.columns"
   ]
  },
  {
   "cell_type": "code",
   "execution_count": 23,
   "id": "86ee15dc",
   "metadata": {},
   "outputs": [
    {
     "data": {
      "text/plain": [
       "Created Date                          0\n",
       "Closed Date                        2381\n",
       "Agency                                0\n",
       "Agency Name                           0\n",
       "Complaint Type                        0\n",
       "Descriptor                         6501\n",
       "Location Type                       133\n",
       "Incident Address                  51699\n",
       "Street Name                       51699\n",
       "Cross Street 1                    57188\n",
       "Cross Street 2                    57805\n",
       "Address Type                       3252\n",
       "City                               2997\n",
       "Facility Type                      2389\n",
       "Status                                0\n",
       "Due Date                              3\n",
       "Resolution Description                0\n",
       "Resolution Action Updated Date     2402\n",
       "Community Board                       0\n",
       "Borough                               0\n",
       "Park Facility Name                    0\n",
       "Park Borough                          0\n",
       "Location                           4030\n",
       "dtype: int64"
      ]
     },
     "execution_count": 23,
     "metadata": {},
     "output_type": "execute_result"
    }
   ],
   "source": [
    "data_cat.isnull().sum()"
   ]
  },
  {
   "cell_type": "code",
   "execution_count": 24,
   "id": "c4030c99",
   "metadata": {
    "scrolled": false
   },
   "outputs": [
    {
     "name": "stdout",
     "output_type": "stream",
     "text": [
      "Created Date\n",
      "['12/31/2015 11:59:45 PM' '12/31/2015 11:59:44 PM'\n",
      " '12/31/2015 11:59:29 PM' ... '01/01/2015 12:01:30 AM'\n",
      " '01/01/2015 12:01:29 AM' '01/01/2015 12:00:50 AM']\n",
      "Closed Date\n",
      "['01/01/2016 12:55:15 AM' '01/01/2016 01:26:57 AM'\n",
      " '01/01/2016 04:51:03 AM' ... '01/01/2015 02:25:02 AM'\n",
      " '01/01/2015 12:20:33 AM' '01/01/2015 02:42:22 AM']\n",
      "Agency\n",
      "['NYPD']\n",
      "Agency Name\n",
      "['New York City Police Department' 'NYPD' 'Internal Affairs Bureau']\n",
      "Complaint Type\n",
      "['Noise - Street/Sidewalk' 'Blocked Driveway' 'Illegal Parking'\n",
      " 'Derelict Vehicle' 'Noise - Commercial' 'Noise - House of Worship'\n",
      " 'Posting Advertisement' 'Noise - Vehicle' 'Animal Abuse' 'Vending'\n",
      " 'Traffic' 'Drinking' 'Bike/Roller/Skate Chronic' 'Panhandling'\n",
      " 'Noise - Park' 'Homeless Encampment' 'Urinating in Public' 'Graffiti'\n",
      " 'Disorderly Youth' 'Illegal Fireworks' 'Ferry Complaint' 'Agency Issues'\n",
      " 'Squeegee' 'Animal in a Park']\n",
      "Descriptor\n",
      "['Loud Music/Party' 'No Access' 'Commercial Overnight Parking'\n",
      " 'Blocked Sidewalk' 'Posted Parking Sign Violation' 'Blocked Hydrant'\n",
      " 'With License Plate' 'Partial Access' 'Unauthorized Bus Layover'\n",
      " 'Double Parked Blocking Vehicle' 'Double Parked Blocking Traffic'\n",
      " 'Vehicle' 'Loud Talking' 'Banging/Pounding' 'Car/Truck Music' 'Tortured'\n",
      " 'In Prohibited Area' 'Congestion/Gridlock' 'Neglected' 'Car/Truck Horn'\n",
      " 'In Public' 'Other (complaint details)' nan 'No Shelter'\n",
      " 'Truck Route Violation' 'Unlicensed' 'Overnight Commercial Storage'\n",
      " 'Engine Idling' 'After Hours - Licensed Est' 'Detached Trailer'\n",
      " 'Underage - Licensed Est' 'Chronic Stoplight Violation' 'Loud Television'\n",
      " 'Chained' 'Building' 'In Car' 'Police Report Requested'\n",
      " 'Chronic Speeding' 'Playing in Unsuitable Place' 'Drag Racing'\n",
      " 'Police Report Not Requested' 'Nuisance/Truant' 'Homeless Issue'\n",
      " 'Language Access Complaint' 'Disruptive Passenger' 'Animal Waste']\n",
      "Location Type\n",
      "['Street/Sidewalk' 'Club/Bar/Restaurant' 'Store/Commercial'\n",
      " 'House of Worship' 'Residential Building/House' 'Residential Building'\n",
      " 'Park/Playground' 'Vacant Lot' 'House and Store' 'Highway' 'Commercial'\n",
      " 'Roadway Tunnel' 'Subway Station' 'Parking Lot' 'Bridge' 'Terminal' nan\n",
      " 'Ferry' 'Park']\n",
      "Incident Address\n",
      "['71 VERMILYEA AVENUE' '27-07 23 AVENUE' '2897 VALENTINE AVENUE' ...\n",
      " '447 HOWE AVENUE' '2310 PEARSALL AVENUE' '19 MICIELI PLACE']\n",
      "Street Name\n",
      "['VERMILYEA AVENUE' '23 AVENUE' 'VALENTINE AVENUE' ... 'CANDON AVENUE'\n",
      " 'PLANK ROAD' 'STRATTON STREET']\n",
      "Cross Street 1\n",
      "['ACADEMY STREET' '27 STREET' 'EAST 198 STREET' ...\n",
      " 'WHITESTONE EXPRESSWAY SR W UNP' 'WENDY DRIVE' 'UTTER AVENUE']\n",
      "Cross Street 2\n",
      "['WEST 204 STREET' '28 STREET' 'EAST 199 STREET' ... 'BERGLUND AVENUE'\n",
      " 'JOAN PLACE' 'WALKER COURT']\n",
      "Address Type\n",
      "['ADDRESS' nan 'INTERSECTION' 'LATLONG' 'BLOCKFACE' 'PLACENAME']\n",
      "City\n",
      "['NEW YORK' 'ASTORIA' 'BRONX' 'ELMHURST' 'BROOKLYN' 'KEW GARDENS'\n",
      " 'JACKSON HEIGHTS' 'MIDDLE VILLAGE' 'REGO PARK' 'SAINT ALBANS' 'JAMAICA'\n",
      " 'SOUTH RICHMOND HILL' nan 'RIDGEWOOD' 'HOWARD BEACH' 'FOREST HILLS'\n",
      " 'STATEN ISLAND' 'OZONE PARK' 'RICHMOND HILL' 'WOODHAVEN' 'FLUSHING'\n",
      " 'CORONA' 'QUEENS VILLAGE' 'OAKLAND GARDENS' 'HOLLIS' 'MASPETH'\n",
      " 'EAST ELMHURST' 'SOUTH OZONE PARK' 'WOODSIDE' 'FRESH MEADOWS'\n",
      " 'LONG ISLAND CITY' 'ROCKAWAY PARK' 'SPRINGFIELD GARDENS' 'COLLEGE POINT'\n",
      " 'BAYSIDE' 'GLEN OAKS' 'FAR ROCKAWAY' 'BELLEROSE' 'LITTLE NECK'\n",
      " 'CAMBRIA HEIGHTS' 'ROSEDALE' 'SUNNYSIDE' 'WHITESTONE' 'ARVERNE'\n",
      " 'FLORAL PARK' 'NEW HYDE PARK' 'CENTRAL PARK' 'BREEZY POINT' 'QUEENS'\n",
      " 'Astoria' 'Long Island City' 'Woodside' 'East Elmhurst' 'Howard Beach']\n",
      "Facility Type\n",
      "['Precinct' nan]\n",
      "Status\n",
      "['Closed' 'Open' 'Assigned' 'Draft']\n",
      "Due Date\n",
      "['01/01/2016 07:59:45 AM' '01/01/2016 07:59:44 AM'\n",
      " '01/01/2016 07:59:29 AM' ... '01/01/2015 08:01:30 AM'\n",
      " '01/01/2015 08:01:29 AM' '01/01/2015 08:00:50 AM']\n",
      "Resolution Description\n",
      "['The Police Department responded and upon arrival those responsible for the condition were gone.'\n",
      " 'The Police Department responded to the complaint and with the information available observed no evidence of the violation at that time.'\n",
      " 'The Police Department responded to the complaint and took action to fix the condition.'\n",
      " 'The Police Department issued a summons in response to the complaint.'\n",
      " 'The Police Department responded to the complaint and determined that police action was not necessary.'\n",
      " 'The Police Department reviewed your complaint and provided additional information below.'\n",
      " 'Your request can not be processed at this time because of insufficient contact information. Please create a new Service Request on NYC.gov and provide more detailed contact information.'\n",
      " \"This complaint does not fall under the Police Department's jurisdiction.\"\n",
      " 'Your complaint has been forwarded to the New York Police Department for a non-emergency response. 311 will have additional information in 8 hours. Please note your service request number for future reference.'\n",
      " 'The Police Department responded to the complaint and a report was prepared.'\n",
      " 'The Police Department responded to the complaint but officers were unable to gain entry into the premises.'\n",
      " 'The Police Department made an arrest in response to the complaint.'\n",
      " \"Your complaint has been forwarded to the New York Police Department for a non-emergency response. If the police determine the vehicle is illegally parked, they will ticket the vehicle and then you may either contact a private towing company to remove the vehicle or ask your local precinct to contact 'rotation tow'. Any fees charged for towing will have to be paid by the vehicle owner. 311 will have additional information in 8 hours. Please note your service request number for future reference.\"\n",
      " 'Your complaint has been received by the Police Department and it has been determined that a long-term investigation may be necessary.  Additional information will be available at the conclusion of the investigation.'\n",
      " 'The Department of Transportation contacted the customer and resolved the Service Request or provided the information requested.'\n",
      " 'The New York City Police Department received your comments and forwarded them to the appropriate unit for resolution. You may follow up by calling (646) 610-6952 after 60 days from submitting your agency issue.'\n",
      " 'The Department of Transportation requires 30 days to respond to this type of complaint.  Please note your Service Request number for future reference.'\n",
      " 'The condition was determined to be an issue appropriate for handling by an alternate entity.  The Department of Parks and Recreation has notified the appropriate resource.']\n",
      "Resolution Action Updated Date\n",
      "['01/01/2016 12:55:15 AM' '01/01/2016 01:26:57 AM'\n",
      " '01/01/2016 04:51:03 AM' ... '01/01/2015 02:25:02 AM'\n",
      " '01/01/2015 12:20:33 AM' '01/01/2015 02:42:22 AM']\n",
      "Community Board\n",
      "['12 MANHATTAN' '01 QUEENS' '07 BRONX' '10 BRONX' '04 QUEENS'\n",
      " '07 BROOKLYN' '03 BRONX' '09 QUEENS' '11 BROOKLYN' '03 QUEENS' '05 BRONX'\n",
      " '05 BROOKLYN' '05 QUEENS' '06 QUEENS' '12 QUEENS' '06 BROOKLYN'\n",
      " '18 BROOKLYN' '10 MANHATTAN' '04 BRONX' '12 BRONX' '09 MANHATTAN'\n",
      " '10 QUEENS' '07 MANHATTAN' '02 BROOKLYN' '03 BROOKLYN' '11 BRONX'\n",
      " '0 Unspecified' '08 BROOKLYN' '01 BROOKLYN' '03 STATEN ISLAND'\n",
      " '06 MANHATTAN' '03 MANHATTAN' '10 BROOKLYN' '11 MANHATTAN' '07 QUEENS'\n",
      " '11 QUEENS' '17 BROOKLYN' '13 QUEENS' '06 BRONX' '04 MANHATTAN'\n",
      " '14 BROOKLYN' '12 BROOKLYN' '08 MANHATTAN' '13 BROOKLYN' '15 BROOKLYN'\n",
      " '01 STATEN ISLAND' '09 BRONX' '02 STATEN ISLAND' '02 QUEENS'\n",
      " '16 BROOKLYN' '08 QUEENS' '09 BROOKLYN' '04 BROOKLYN' '14 QUEENS'\n",
      " '05 MANHATTAN' '08 BRONX' '02 BRONX' '02 MANHATTAN' '01 BRONX'\n",
      " '01 MANHATTAN' '83 QUEENS' '95 STATEN ISLAND' '81 QUEENS' '27 BRONX'\n",
      " 'Unspecified STATEN ISLAND' '64 MANHATTAN' '80 QUEENS' '55 BROOKLYN'\n",
      " '26 BRONX' '82 QUEENS' '56 BROOKLYN' '28 BRONX' 'Unspecified QUEENS'\n",
      " 'Unspecified MANHATTAN' '84 QUEENS']\n",
      "Borough\n",
      "['MANHATTAN' 'QUEENS' 'BRONX' 'BROOKLYN' 'Unspecified' 'STATEN ISLAND']\n",
      "Park Facility Name\n",
      "['Unspecified' 'Alley Pond Park - Nature Center']\n",
      "Park Borough\n",
      "['MANHATTAN' 'QUEENS' 'BRONX' 'BROOKLYN' 'Unspecified' 'STATEN ISLAND']\n",
      "Location\n",
      "['(40.86568153633767, -73.92350095571744)'\n",
      " '(40.775945312321085, -73.91509393898605)'\n",
      " '(40.870324522111424, -73.88852464418646)' ...\n",
      " '(40.860067825505645, -73.85211211113571)'\n",
      " '(40.64643889447912, -73.98197140465561)'\n",
      " '(40.73884743426441, -73.86375174412073)']\n"
     ]
    }
   ],
   "source": [
    "for x in data_cat.columns:\n",
    "    k=data_cat[x].unique()\n",
    "    print(x)\n",
    "    print(k)\n",
    "    \n"
   ]
  },
  {
   "cell_type": "code",
   "execution_count": 25,
   "id": "cee64372",
   "metadata": {},
   "outputs": [],
   "source": [
    "# in the above case facility type is having only 1 unique value and rest nan, we can replace the nan value with the unique value"
   ]
  },
  {
   "cell_type": "code",
   "execution_count": 26,
   "id": "a230ec05",
   "metadata": {},
   "outputs": [],
   "source": [
    "data_cat[\"Facility Type\"].fillna(('Precinct'),inplace =True)\n"
   ]
  },
  {
   "cell_type": "code",
   "execution_count": 27,
   "id": "0b8f821b",
   "metadata": {},
   "outputs": [
    {
     "data": {
      "text/plain": [
       "Created Date                          0\n",
       "Closed Date                        2381\n",
       "Agency                                0\n",
       "Agency Name                           0\n",
       "Complaint Type                        0\n",
       "Descriptor                         6501\n",
       "Location Type                       133\n",
       "Incident Address                  51699\n",
       "Street Name                       51699\n",
       "Cross Street 1                    57188\n",
       "Cross Street 2                    57805\n",
       "Address Type                       3252\n",
       "City                               2997\n",
       "Facility Type                         0\n",
       "Status                                0\n",
       "Due Date                              3\n",
       "Resolution Description                0\n",
       "Resolution Action Updated Date     2402\n",
       "Community Board                       0\n",
       "Borough                               0\n",
       "Park Facility Name                    0\n",
       "Park Borough                          0\n",
       "Location                           4030\n",
       "dtype: int64"
      ]
     },
     "execution_count": 27,
     "metadata": {},
     "output_type": "execute_result"
    }
   ],
   "source": [
    "data_cat.isnull().sum()"
   ]
  },
  {
   "cell_type": "code",
   "execution_count": 28,
   "id": "470c83dc",
   "metadata": {},
   "outputs": [],
   "source": [
    "data_cat[\"Closed Date\"].fillna(data_cat[\"Closed Date\"].mode(),inplace=True)"
   ]
  },
  {
   "cell_type": "code",
   "execution_count": 29,
   "id": "e2aabacc",
   "metadata": {},
   "outputs": [],
   "source": [
    "import seaborn as sns"
   ]
  },
  {
   "cell_type": "code",
   "execution_count": null,
   "id": "9688d4a9",
   "metadata": {},
   "outputs": [],
   "source": []
  },
  {
   "cell_type": "code",
   "execution_count": 30,
   "id": "484e6ef7",
   "metadata": {},
   "outputs": [],
   "source": [
    "import matplotlib.pyplot as plt"
   ]
  },
  {
   "cell_type": "code",
   "execution_count": 34,
   "id": "8ddcbfb5",
   "metadata": {},
   "outputs": [
    {
     "data": {
      "text/plain": [
       "<AxesSubplot:>"
      ]
     },
     "execution_count": 34,
     "metadata": {},
     "output_type": "execute_result"
    },
    {
     "data": {
      "image/png": "[encoded data removed]",
      "text/plain": [
       "<Figure size 640x480 with 1 Axes>"
      ]
     },
     "metadata": {},
     "output_type": "display_data"
    }
   ],
   "source": [
    "(data_cat[\"Complaint Type\"].value_counts()).plot.bar()"
   ]
  },
  {
   "cell_type": "code",
   "execution_count": 48,
   "id": "79328683",
   "metadata": {},
   "outputs": [
    {
     "data": {
      "text/html": [
       "<div>\n",
       "<style scoped>\n",
       "    .dataframe tbody tr th:only-of-type {\n",
       "        vertical-align: middle;\n",
       "    }\n",
       "\n",
       "    .dataframe tbody tr th {\n",
       "        vertical-align: top;\n",
       "    }\n",
       "\n",
       "    .dataframe thead th {\n",
       "        text-align: right;\n",
       "    }\n",
       "</style>\n",
       "<table border=\"1\" class=\"dataframe\">\n",
       "  <thead>\n",
       "    <tr style=\"text-align: right;\">\n",
       "      <th></th>\n",
       "      <th>Created Date</th>\n",
       "      <th>Closed Date</th>\n",
       "      <th>Agency</th>\n",
       "      <th>Agency Name</th>\n",
       "      <th>Complaint Type</th>\n",
       "      <th>Descriptor</th>\n",
       "      <th>Location Type</th>\n",
       "      <th>Incident Address</th>\n",
       "      <th>Street Name</th>\n",
       "      <th>Cross Street 1</th>\n",
       "      <th>...</th>\n",
       "      <th>Facility Type</th>\n",
       "      <th>Status</th>\n",
       "      <th>Due Date</th>\n",
       "      <th>Resolution Description</th>\n",
       "      <th>Resolution Action Updated Date</th>\n",
       "      <th>Community Board</th>\n",
       "      <th>Borough</th>\n",
       "      <th>Park Facility Name</th>\n",
       "      <th>Park Borough</th>\n",
       "      <th>Location</th>\n",
       "    </tr>\n",
       "  </thead>\n",
       "  <tbody>\n",
       "    <tr>\n",
       "      <th>0</th>\n",
       "      <td>12/31/2015 11:59:45 PM</td>\n",
       "      <td>01/01/2016 12:55:15 AM</td>\n",
       "      <td>NYPD</td>\n",
       "      <td>New York City Police Department</td>\n",
       "      <td>Noise - Street/Sidewalk</td>\n",
       "      <td>Loud Music/Party</td>\n",
       "      <td>Street/Sidewalk</td>\n",
       "      <td>71 VERMILYEA AVENUE</td>\n",
       "      <td>VERMILYEA AVENUE</td>\n",
       "      <td>ACADEMY STREET</td>\n",
       "      <td>...</td>\n",
       "      <td>Precinct</td>\n",
       "      <td>Closed</td>\n",
       "      <td>01/01/2016 07:59:45 AM</td>\n",
       "      <td>The Police Department responded and upon arriv...</td>\n",
       "      <td>01/01/2016 12:55:15 AM</td>\n",
       "      <td>12 MANHATTAN</td>\n",
       "      <td>MANHATTAN</td>\n",
       "      <td>Unspecified</td>\n",
       "      <td>MANHATTAN</td>\n",
       "      <td>(40.86568153633767, -73.92350095571744)</td>\n",
       "    </tr>\n",
       "    <tr>\n",
       "      <th>1</th>\n",
       "      <td>12/31/2015 11:59:44 PM</td>\n",
       "      <td>01/01/2016 01:26:57 AM</td>\n",
       "      <td>NYPD</td>\n",
       "      <td>New York City Police Department</td>\n",
       "      <td>Blocked Driveway</td>\n",
       "      <td>No Access</td>\n",
       "      <td>Street/Sidewalk</td>\n",
       "      <td>27-07 23 AVENUE</td>\n",
       "      <td>23 AVENUE</td>\n",
       "      <td>27 STREET</td>\n",
       "      <td>...</td>\n",
       "      <td>Precinct</td>\n",
       "      <td>Closed</td>\n",
       "      <td>01/01/2016 07:59:44 AM</td>\n",
       "      <td>The Police Department responded to the complai...</td>\n",
       "      <td>01/01/2016 01:26:57 AM</td>\n",
       "      <td>01 QUEENS</td>\n",
       "      <td>QUEENS</td>\n",
       "      <td>Unspecified</td>\n",
       "      <td>QUEENS</td>\n",
       "      <td>(40.775945312321085, -73.91509393898605)</td>\n",
       "    </tr>\n",
       "    <tr>\n",
       "      <th>2</th>\n",
       "      <td>12/31/2015 11:59:29 PM</td>\n",
       "      <td>01/01/2016 04:51:03 AM</td>\n",
       "      <td>NYPD</td>\n",
       "      <td>New York City Police Department</td>\n",
       "      <td>Blocked Driveway</td>\n",
       "      <td>No Access</td>\n",
       "      <td>Street/Sidewalk</td>\n",
       "      <td>2897 VALENTINE AVENUE</td>\n",
       "      <td>VALENTINE AVENUE</td>\n",
       "      <td>EAST 198 STREET</td>\n",
       "      <td>...</td>\n",
       "      <td>Precinct</td>\n",
       "      <td>Closed</td>\n",
       "      <td>01/01/2016 07:59:29 AM</td>\n",
       "      <td>The Police Department responded and upon arriv...</td>\n",
       "      <td>01/01/2016 04:51:03 AM</td>\n",
       "      <td>07 BRONX</td>\n",
       "      <td>BRONX</td>\n",
       "      <td>Unspecified</td>\n",
       "      <td>BRONX</td>\n",
       "      <td>(40.870324522111424, -73.88852464418646)</td>\n",
       "    </tr>\n",
       "    <tr>\n",
       "      <th>3</th>\n",
       "      <td>12/31/2015 11:57:46 PM</td>\n",
       "      <td>01/01/2016 07:43:13 AM</td>\n",
       "      <td>NYPD</td>\n",
       "      <td>New York City Police Department</td>\n",
       "      <td>Illegal Parking</td>\n",
       "      <td>Commercial Overnight Parking</td>\n",
       "      <td>Street/Sidewalk</td>\n",
       "      <td>2940 BAISLEY AVENUE</td>\n",
       "      <td>BAISLEY AVENUE</td>\n",
       "      <td>EDISON AVENUE</td>\n",
       "      <td>...</td>\n",
       "      <td>Precinct</td>\n",
       "      <td>Closed</td>\n",
       "      <td>01/01/2016 07:57:46 AM</td>\n",
       "      <td>The Police Department responded to the complai...</td>\n",
       "      <td>01/01/2016 07:43:13 AM</td>\n",
       "      <td>10 BRONX</td>\n",
       "      <td>BRONX</td>\n",
       "      <td>Unspecified</td>\n",
       "      <td>BRONX</td>\n",
       "      <td>(40.83599404683083, -73.82837939584206)</td>\n",
       "    </tr>\n",
       "    <tr>\n",
       "      <th>4</th>\n",
       "      <td>12/31/2015 11:56:58 PM</td>\n",
       "      <td>01/01/2016 03:24:42 AM</td>\n",
       "      <td>NYPD</td>\n",
       "      <td>New York City Police Department</td>\n",
       "      <td>Illegal Parking</td>\n",
       "      <td>Blocked Sidewalk</td>\n",
       "      <td>Street/Sidewalk</td>\n",
       "      <td>87-14 57 ROAD</td>\n",
       "      <td>57 ROAD</td>\n",
       "      <td>SEABURY STREET</td>\n",
       "      <td>...</td>\n",
       "      <td>Precinct</td>\n",
       "      <td>Closed</td>\n",
       "      <td>01/01/2016 07:56:58 AM</td>\n",
       "      <td>The Police Department responded and upon arriv...</td>\n",
       "      <td>01/01/2016 03:24:42 AM</td>\n",
       "      <td>04 QUEENS</td>\n",
       "      <td>QUEENS</td>\n",
       "      <td>Unspecified</td>\n",
       "      <td>QUEENS</td>\n",
       "      <td>(40.733059618956815, -73.87416975810375)</td>\n",
       "    </tr>\n",
       "  </tbody>\n",
       "</table>\n",
       "<p>5 rows × 23 columns</p>\n",
       "</div>"
      ],
      "text/plain": [
       "             Created Date             Closed Date Agency  \\\n",
       "0  12/31/2015 11:59:45 PM  01/01/2016 12:55:15 AM   NYPD   \n",
       "1  12/31/2015 11:59:44 PM  01/01/2016 01:26:57 AM   NYPD   \n",
       "2  12/31/2015 11:59:29 PM  01/01/2016 04:51:03 AM   NYPD   \n",
       "3  12/31/2015 11:57:46 PM  01/01/2016 07:43:13 AM   NYPD   \n",
       "4  12/31/2015 11:56:58 PM  01/01/2016 03:24:42 AM   NYPD   \n",
       "\n",
       "                       Agency Name           Complaint Type  \\\n",
       "0  New York City Police Department  Noise - Street/Sidewalk   \n",
       "1  New York City Police Department         Blocked Driveway   \n",
       "2  New York City Police Department         Blocked Driveway   \n",
       "3  New York City Police Department          Illegal Parking   \n",
       "4  New York City Police Department          Illegal Parking   \n",
       "\n",
       "                     Descriptor    Location Type       Incident Address  \\\n",
       "0              Loud Music/Party  Street/Sidewalk    71 VERMILYEA AVENUE   \n",
       "1                     No Access  Street/Sidewalk        27-07 23 AVENUE   \n",
       "2                     No Access  Street/Sidewalk  2897 VALENTINE AVENUE   \n",
       "3  Commercial Overnight Parking  Street/Sidewalk    2940 BAISLEY AVENUE   \n",
       "4              Blocked Sidewalk  Street/Sidewalk          87-14 57 ROAD   \n",
       "\n",
       "        Street Name   Cross Street 1  ... Facility Type  Status  \\\n",
       "0  VERMILYEA AVENUE   ACADEMY STREET  ...      Precinct  Closed   \n",
       "1         23 AVENUE        27 STREET  ...      Precinct  Closed   \n",
       "2  VALENTINE AVENUE  EAST 198 STREET  ...      Precinct  Closed   \n",
       "3    BAISLEY AVENUE    EDISON AVENUE  ...      Precinct  Closed   \n",
       "4           57 ROAD   SEABURY STREET  ...      Precinct  Closed   \n",
       "\n",
       "                 Due Date                             Resolution Description  \\\n",
       "0  01/01/2016 07:59:45 AM  The Police Department responded and upon arriv...   \n",
       "1  01/01/2016 07:59:44 AM  The Police Department responded to the complai...   \n",
       "2  01/01/2016 07:59:29 AM  The Police Department responded and upon arriv...   \n",
       "3  01/01/2016 07:57:46 AM  The Police Department responded to the complai...   \n",
       "4  01/01/2016 07:56:58 AM  The Police Department responded and upon arriv...   \n",
       "\n",
       "  Resolution Action Updated Date Community Board    Borough  \\\n",
       "0         01/01/2016 12:55:15 AM    12 MANHATTAN  MANHATTAN   \n",
       "1         01/01/2016 01:26:57 AM       01 QUEENS     QUEENS   \n",
       "2         01/01/2016 04:51:03 AM        07 BRONX      BRONX   \n",
       "3         01/01/2016 07:43:13 AM        10 BRONX      BRONX   \n",
       "4         01/01/2016 03:24:42 AM       04 QUEENS     QUEENS   \n",
       "\n",
       "  Park Facility Name Park Borough                                  Location  \n",
       "0        Unspecified    MANHATTAN   (40.86568153633767, -73.92350095571744)  \n",
       "1        Unspecified       QUEENS  (40.775945312321085, -73.91509393898605)  \n",
       "2        Unspecified        BRONX  (40.870324522111424, -73.88852464418646)  \n",
       "3        Unspecified        BRONX   (40.83599404683083, -73.82837939584206)  \n",
       "4        Unspecified       QUEENS  (40.733059618956815, -73.87416975810375)  \n",
       "\n",
       "[5 rows x 23 columns]"
      ]
     },
     "execution_count": 48,
     "metadata": {},
     "output_type": "execute_result"
    }
   ],
   "source": [
    "nyc1=data_cat.head()\n",
    "nyc1"
   ]
  },
  {
   "cell_type": "code",
   "execution_count": 49,
   "id": "a4f06528",
   "metadata": {
    "scrolled": true
   },
   "outputs": [
    {
     "data": {
      "text/plain": [
       "<bound method DataFrame.info of              Created Date             Closed Date Agency  \\\n",
       "0  12/31/2015 11:59:45 PM  01/01/2016 12:55:15 AM   NYPD   \n",
       "1  12/31/2015 11:59:44 PM  01/01/2016 01:26:57 AM   NYPD   \n",
       "2  12/31/2015 11:59:29 PM  01/01/2016 04:51:03 AM   NYPD   \n",
       "3  12/31/2015 11:57:46 PM  01/01/2016 07:43:13 AM   NYPD   \n",
       "4  12/31/2015 11:56:58 PM  01/01/2016 03:24:42 AM   NYPD   \n",
       "\n",
       "                       Agency Name           Complaint Type  \\\n",
       "0  New York City Police Department  Noise - Street/Sidewalk   \n",
       "1  New York City Police Department         Blocked Driveway   \n",
       "2  New York City Police Department         Blocked Driveway   \n",
       "3  New York City Police Department          Illegal Parking   \n",
       "4  New York City Police Department          Illegal Parking   \n",
       "\n",
       "                     Descriptor    Location Type       Incident Address  \\\n",
       "0              Loud Music/Party  Street/Sidewalk    71 VERMILYEA AVENUE   \n",
       "1                     No Access  Street/Sidewalk        27-07 23 AVENUE   \n",
       "2                     No Access  Street/Sidewalk  2897 VALENTINE AVENUE   \n",
       "3  Commercial Overnight Parking  Street/Sidewalk    2940 BAISLEY AVENUE   \n",
       "4              Blocked Sidewalk  Street/Sidewalk          87-14 57 ROAD   \n",
       "\n",
       "        Street Name   Cross Street 1  ... Facility Type  Status  \\\n",
       "0  VERMILYEA AVENUE   ACADEMY STREET  ...      Precinct  Closed   \n",
       "1         23 AVENUE        27 STREET  ...      Precinct  Closed   \n",
       "2  VALENTINE AVENUE  EAST 198 STREET  ...      Precinct  Closed   \n",
       "3    BAISLEY AVENUE    EDISON AVENUE  ...      Precinct  Closed   \n",
       "4           57 ROAD   SEABURY STREET  ...      Precinct  Closed   \n",
       "\n",
       "                 Due Date                             Resolution Description  \\\n",
       "0  01/01/2016 07:59:45 AM  The Police Department responded and upon arriv...   \n",
       "1  01/01/2016 07:59:44 AM  The Police Department responded to the complai...   \n",
       "2  01/01/2016 07:59:29 AM  The Police Department responded and upon arriv...   \n",
       "3  01/01/2016 07:57:46 AM  The Police Department responded to the complai...   \n",
       "4  01/01/2016 07:56:58 AM  The Police Department responded and upon arriv...   \n",
       "\n",
       "  Resolution Action Updated Date Community Board    Borough  \\\n",
       "0         01/01/2016 12:55:15 AM    12 MANHATTAN  MANHATTAN   \n",
       "1         01/01/2016 01:26:57 AM       01 QUEENS     QUEENS   \n",
       "2         01/01/2016 04:51:03 AM        07 BRONX      BRONX   \n",
       "3         01/01/2016 07:43:13 AM        10 BRONX      BRONX   \n",
       "4         01/01/2016 03:24:42 AM       04 QUEENS     QUEENS   \n",
       "\n",
       "  Park Facility Name Park Borough                                  Location  \n",
       "0        Unspecified    MANHATTAN   (40.86568153633767, -73.92350095571744)  \n",
       "1        Unspecified       QUEENS  (40.775945312321085, -73.91509393898605)  \n",
       "2        Unspecified        BRONX  (40.870324522111424, -73.88852464418646)  \n",
       "3        Unspecified        BRONX   (40.83599404683083, -73.82837939584206)  \n",
       "4        Unspecified       QUEENS  (40.733059618956815, -73.87416975810375)  \n",
       "\n",
       "[5 rows x 23 columns]>"
      ]
     },
     "execution_count": 49,
     "metadata": {},
     "output_type": "execute_result"
    }
   ],
   "source": [
    "nyc1.index.values\n",
    "nyc1.columns.values\n",
    "nyc1.info"
   ]
  },
  {
   "cell_type": "code",
   "execution_count": 50,
   "id": "cc372139",
   "metadata": {},
   "outputs": [
    {
     "data": {
      "text/plain": [
       "0    Noise - Street/Sidewalk\n",
       "1           Blocked Driveway\n",
       "2           Blocked Driveway\n",
       "3            Illegal Parking\n",
       "4            Illegal Parking\n",
       "Name: Complaint Type, dtype: object"
      ]
     },
     "execution_count": 50,
     "metadata": {},
     "output_type": "execute_result"
    }
   ],
   "source": [
    "nyc1.loc[:,['Complaint Type','City']]\n",
    "major=nyc1.loc[:,\"Complaint Type\"]\n",
    "major"
   ]
  },
  {
   "cell_type": "code",
   "execution_count": 51,
   "id": "87850335",
   "metadata": {},
   "outputs": [
    {
     "data": {
      "text/plain": [
       "Blocked Driveway           2\n",
       "Illegal Parking            2\n",
       "Noise - Street/Sidewalk    1\n",
       "Name: Complaint Type, dtype: int64"
      ]
     },
     "execution_count": 51,
     "metadata": {},
     "output_type": "execute_result"
    }
   ],
   "source": [
    "\n",
    "major.unique()\n",
    "major.nunique()\n",
    "top=major.value_counts()\n",
    "top\n",
    "top.head(10)"
   ]
  },
  {
   "cell_type": "code",
   "execution_count": 52,
   "id": "cc669c9c",
   "metadata": {},
   "outputs": [
    {
     "data": {
      "text/plain": [
       "<AxesSubplot:title={'center':'count vs. complaint types'}>"
      ]
     },
     "execution_count": 52,
     "metadata": {},
     "output_type": "execute_result"
    },
    {
     "data": {
      "image/png": "[encoded data removed]",
      "text/plain": [
       "<Figure size 640x480 with 1 Axes>"
      ]
     },
     "metadata": {},
     "output_type": "display_data"
    }
   ],
   "source": [
    "\n",
    "# %matplotlib inline\n",
    "major.value_counts().plot(kind='bar',title='count vs. complaint types')"
   ]
  },
  {
   "cell_type": "code",
   "execution_count": 53,
   "id": "3d9cbdc5",
   "metadata": {},
   "outputs": [
    {
     "data": {
      "text/plain": [
       "<AxesSubplot:title={'center':'The major complaint types and their count'}, ylabel='Frequency'>"
      ]
     },
     "execution_count": 53,
     "metadata": {},
     "output_type": "execute_result"
    },
    {
     "data": {
      "image/png": "[encoded data removed]",
      "text/plain": [
       "<Figure size 640x480 with 1 Axes>"
      ]
     },
     "metadata": {},
     "output_type": "display_data"
    }
   ],
   "source": [
    "\n",
    "top.plot(kind='hist',title='Visualize the complaint types')\n",
    "\n",
    "top.head(10).plot(kind='bar',title='The major complaint types and their count')"
   ]
  },
  {
   "cell_type": "code",
   "execution_count": 54,
   "id": "3a0fbb48",
   "metadata": {},
   "outputs": [
    {
     "data": {
      "text/plain": [
       "<AxesSubplot:title={'center':'count vs. complaint types'}>"
      ]
     },
     "execution_count": 54,
     "metadata": {},
     "output_type": "execute_result"
    },
    {
     "data": {
      "image/png": "[encoded data removed]",
      "text/plain": [
       "<Figure size 640x480 with 1 Axes>"
      ]
     },
     "metadata": {},
     "output_type": "display_data"
    }
   ],
   "source": [
    "\n",
    "# %matplotlib inline\n",
    "\n",
    "major.value_counts().plot(kind='bar',title='count vs. complaint types')"
   ]
  },
  {
   "cell_type": "code",
   "execution_count": 56,
   "id": "e3b75da7",
   "metadata": {},
   "outputs": [
    {
     "data": {
      "text/plain": [
       "<AxesSubplot:title={'center':'Visualize the complaint types'}, ylabel='Frequency'>"
      ]
     },
     "execution_count": 56,
     "metadata": {},
     "output_type": "execute_result"
    },
    {
     "data": {
      "image/png": "[encoded data removed]",
      "text/plain": [
       "<Figure size 640x480 with 1 Axes>"
      ]
     },
     "metadata": {},
     "output_type": "display_data"
    }
   ],
   "source": [
    "top.plot(kind='hist',title='Visualize the complaint types')"
   ]
  },
  {
   "cell_type": "code",
   "execution_count": 55,
   "id": "9be036db",
   "metadata": {},
   "outputs": [
    {
     "data": {
      "text/plain": [
       "<AxesSubplot:title={'center':'The major complaint types and their count'}>"
      ]
     },
     "execution_count": 55,
     "metadata": {},
     "output_type": "execute_result"
    },
    {
     "data": {
      "image/png": "[encoded data removed]",
      "text/plain": [
       "<Figure size 640x480 with 1 Axes>"
      ]
     },
     "metadata": {},
     "output_type": "display_data"
    }
   ],
   "source": [
    "top.head(10).plot(kind='bar',title='The major complaint types and their count')"
   ]
  },
  {
   "cell_type": "code",
   "execution_count": null,
   "id": "47cbf313",
   "metadata": {},
   "outputs": [],
   "source": []
  }
 ],
 "metadata": {
  "kernelspec": {
   "display_name": "Python 3 (ipykernel)",
   "language": "python",
   "name": "python3"
  },
  "language_info": {
   "codemirror_mode": {
    "name": "ipython",
    "version": 3
   },
   "file_extension": ".py",
   "mimetype": "text/x-python",
   "name": "python",
   "nbconvert_exporter": "python",
   "pygments_lexer": "ipython3",
   "version": "3.9.13"
  }
 },
 "nbformat": 4,
 "nbformat_minor": 5
}
